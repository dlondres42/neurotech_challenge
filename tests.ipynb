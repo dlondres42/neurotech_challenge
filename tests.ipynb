{
 "cells": [
  {
   "cell_type": "markdown",
   "id": "040fa63b",
   "metadata": {},
   "source": [
    "# Testando o modelo providenciado no desafio"
   ]
  },
  {
   "cell_type": "code",
   "execution_count": 68,
   "id": "486b744f",
   "metadata": {},
   "outputs": [],
   "source": [
    "import requests\n",
    "import json\n",
    "import pandas as pd\n",
    "import numpy as np\n",
    "\n",
    "url = 'http://0.0.0.0:8001/v1/performance/perf_calc'\n",
    "url2 = 'http://0.0.0.0:8001/v1/aderencia/ad_calc'"
   ]
  },
  {
   "cell_type": "markdown",
   "id": "df78b5c7",
   "metadata": {},
   "source": [
    "## 1.1 Performance e volumetria\n"
   ]
  },
  {
   "cell_type": "code",
   "execution_count": 69,
   "id": "334ce48e",
   "metadata": {},
   "outputs": [
    {
     "data": {
      "text/plain": [
       "'{\"volumetry\":{\"July\":74,\"August\":72,\"May\":67,\"June\":63,\"March\":62,\"January\":58,\"February\":55,\"April\":49},\"auc_roc\":0.5751748251748252}'"
      ]
     },
     "execution_count": 69,
     "metadata": {},
     "output_type": "execute_result"
    }
   ],
   "source": [
    "with open(\"monitoring/batch_records.json\", \"r\") as f:\n",
    "    data = json.load(f)\n",
    "\n",
    "response = requests.post(url, json=data)\n",
    "response.text"
   ]
  },
  {
   "cell_type": "code",
   "execution_count": 73,
   "id": "97c8b0b3",
   "metadata": {},
   "outputs": [
    {
     "data": {
      "text/plain": [
       "'{\"volumetry\":{\"July\":74,\"August\":72,\"May\":67,\"June\":63,\"March\":62,\"January\":58,\"February\":55,\"April\":49},\"auc_roc\":0.5751748251748252}'"
      ]
     },
     "execution_count": 73,
     "metadata": {},
     "output_type": "execute_result"
    }
   ],
   "source": [
    "with open(\"monitoring/batch_records.json\", \"r\") as f:\n",
    "    data = json.load(f)\n",
    "\n",
    "response = requests.post(url, json=data)\n",
    "response.text"
   ]
  },
  {
   "cell_type": "markdown",
   "id": "3a94e888",
   "metadata": {},
   "source": [
    "## 1.2 Aderência – utilizando train.gz"
   ]
  },
  {
   "cell_type": "code",
   "execution_count": 70,
   "id": "69c93950",
   "metadata": {},
   "outputs": [
    {
     "data": {
      "text/plain": [
       "'{\"distance\":0.002759858953621075}'"
      ]
     },
     "execution_count": 70,
     "metadata": {},
     "output_type": "execute_result"
    }
   ],
   "source": [
    "filepath = \"/Users/davidubaldo/Neuro/challenge-data-scientist/datasets/credit_01/train.gz\"\n",
    "payload = {'filepath': filepath}\n",
    "response = requests.post(url2, params=payload)\n",
    "response.text"
   ]
  },
  {
   "cell_type": "markdown",
   "id": "0e841e91",
   "metadata": {},
   "source": [
    "## 1.2 Aderência – utilizando oot.gz"
   ]
  },
  {
   "cell_type": "code",
   "execution_count": 72,
   "id": "6a6d9a57",
   "metadata": {},
   "outputs": [
    {
     "data": {
      "text/plain": [
       "'{\"distance\":0.020915414151451373}'"
      ]
     },
     "execution_count": 72,
     "metadata": {},
     "output_type": "execute_result"
    }
   ],
   "source": [
    "filepath = \"/Users/davidubaldo/Neuro/challenge-data-scientist/datasets/credit_01/oot.gz\"\n",
    "payload = {'filepath': filepath}\n",
    "response = requests.post(url2, params=payload)\n",
    "response.text"
   ]
  },
  {
   "cell_type": "code",
   "execution_count": null,
   "id": "1c1c2688",
   "metadata": {},
   "outputs": [],
   "source": [
    "# '{\"distancia entre distribuicoes\":0.020915414151451373}'"
   ]
  }
 ],
 "metadata": {
  "kernelspec": {
   "display_name": "Python 3 (ipykernel)",
   "language": "python",
   "name": "python3"
  },
  "language_info": {
   "codemirror_mode": {
    "name": "ipython",
    "version": 3
   },
   "file_extension": ".py",
   "mimetype": "text/x-python",
   "name": "python",
   "nbconvert_exporter": "python",
   "pygments_lexer": "ipython3",
   "version": "3.8.13"
  }
 },
 "nbformat": 4,
 "nbformat_minor": 5
}
